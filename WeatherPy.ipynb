Jupyter Notebook
WeatherPy
(autosaved)
Current Kernel Logo
Python 3 
File
Edit
View
Insert
Cell
Kernel
Widgets
Help

WeatherPy
Analysis
As expected, the weather becomes significantly warmer as one approaches the equator (0 Deg. Latitude). More interestingly, however, is the fact that the southern hemisphere tends to be warmer this time of year than the northern hemisphere. This may be due to the tilt of the earth.
There is no strong relationship between latitude and cloudiness. However, it is interesting to see that a strong band of cities sits at 0, 80, and 100% cloudiness.
There is no strong relationship between latitude and wind speed. However, in northern hemispheres there is a flurry of cities with over 20 mph of wind.
Note
Instructions have been included for each segment. You do not have to follow them exactly, but they are included to help you think through the steps.

%matplotlib notebook

# Dependencies and Setup
import matplotlib.pyplot as plt
import pandas as pd
import numpy as np
import requests
import time
import matplotlib.cm as cm
import matplotlib.colors as colors
from config import api_key
​
# Import API key
#import "weather"
​
​
​
#weather_api_key - "weather"
#from config import weather
from pprint import pprint
​
# Incorporated citipy to determine city based on latitude and longitude
from citipy import citipy
​
# Output File (CSV)
output_data_file = "output_data/cities.csv"
​
#set url  and query data 
url= "https://pypi.python.org/pypi/citipy"
city = []
​
url= "https://openweathermap.org/api"
​
​
​
​
Generate Cities List

# List for holding lat_lngs and cities
lat_lngs = []
cities = [0]
​
# Create a set of random lat and lng combinations
lats = np.random.uniform(low=-90.000, high=90.000, size=1500)
lngs = np.random.uniform(low=-180.000, high=180.000, size=1500)
lat_lngs = zip(lats, lngs)
​
# Identify nearest city for each lat, lng combination
for lat_lng in lat_lngs:
    city = citipy.nearest_city(lat_lng[0], lat_lng[1]).city_name
    
    # If the city is unique, then add it to a our cities list
    if city not in cities:
        cities.append(city)
​
# Print the city count to confirm sufficient count
​
len(cities)
​
​
621
Perform API Calls
Perform a weather check on each city using a series of successive API calls.
Include a print log of each city as it'sbeing processed (with the city number and city name).

#create a data frame from cities with city numbers and names
city = cities[:10]
e = enumerate(cities)
#set up a list to hold response
#lat = []
#weather = []
​
for en in e:
    
     print(en)
               
​
---------------------------------------------------------------------------
NameError                                 Traceback (most recent call last)
<ipython-input-4-f9c79f443f00> in <module>()
      1 #create a data frame from cities with city numbers and names
----> 2 city = cities[:10]
      3 e = enumerate(cities)
      4 #set up a list to hold response
      5 #lat = []

NameError: name 'cities' is not defined


​
# Set query information
print("Beginning Data Retrieval")
print("_________________________________")
City_Weather = []
count = 1
for i, city in enumerate(cities):
time.sleep(1)
query_url = url + "&q=" + urllib.request.pathname2url(city)
print(f"Processing Record {count} of Set 1) | {cities[i]}")
#print(query_url)
count = (count + 1)
try:
cityweather = requests.get(query_url).json()
# pprint(cityweather)
cityName = cityweather["name"]
cityCloudiness = cityweather["clouds"]["all"]
cityCountry = cityweather["sys"]["country"]
cityDate = cityweather["dt"]
cityHumidity = cityweather["main"]["humidity"]
cityLat = cityweather["coord"]["lat"]
cityLng = cityweather["coord"]["lon"]
cityMaxTemp = cityweather["main"]["temp_max"]
cityWindSpeed = cityweather["wind"]["speed"]
City_Weather.append({
"City Name":cityName,
"Cloudiness":cityCloudiness,
"Country":cityCountry,
"Date":cityDate,
"Humidity":cityHumidity,
"Lat":cityLat,
"Lng":cityLng,
"Max Temp":cityMaxTemp,
"Wind Speed":cityWindSpeed})
except:
print("City not found. Skipping...")
print("Data Retrieval Complete")
print("_________________________________________")
​
            
  File "<ipython-input-5-08b6b9b60840>", line 8
    time.sleep(1)
       ^
IndentationError: expected an indented block


Convert Raw Data to DataFrame
Export the city data into a .csv.
Display the DataFrame

#create a  weather Data Frame 
                
weather_df = pd.DataFrame(city_weather)
weather_jdf.to_csv("weather_data_file.csv")
weather_df.head()
---------------------------------------------------------------------------
NameError                                 Traceback (most recent call last)
<ipython-input-13-3f5204d55a42> in <module>()
      1 #create a  weather Data Frame
      2 
----> 3 weather_df = pd.DataFrame(city_weather)
      4 weather_jdf.to_csv("weather_data_file.csv")
      5 weather_df.head()

NameError: name 'city_weather' is not defined


​
​
City          547
Cloudiness    547
Country       547
Date          547
Humidity      547
Lat           547
Lng           547
Max Temp      547
Wind Speed    547
dtype: int64

#load in csv
city_df+pd.read_csv()
city_df.head(5)
City	Cloudiness	Country	Date	Humidity	Lat	Lng	Max Temp	Wind Speed
0	lompoc	1	US	1534984500	44	34.64	-120.46	77.00	11.41
1	klaksvik	92	FO	1534983600	100	62.23	-6.59	50.00	13.87
2	bisignano	0	IT	1534981800	88	39.50	16.27	66.20	5.82
3	hilo	90	US	1534984860	90	19.71	-155.08	77.00	8.05
4	rikitea	8	PF	1534986579	100	-23.12	-134.97	69.58	19.71
Plotting the Data
Use proper labeling of the plots using plot titles (including date of analysis) and axes labels.
Save the plotted figures as .pngs.
Latitude vs. Temperature Plot

#Build a scatter plt.title("Temperature in World Cities")
# Plot data
fig, ax = plt.subplots()
​
plt.ylabel("Temperature (Celsius)")
plt.xlabel("Latitude")
plt.title(City Latitude vs Max Temperature (8/22/18))
plt.grid(True)
​
# Save the figure
plt.savefig("../Images_TemperatureInWorldCities.png")("../Images/Latitude_Temperature_Chart.png")
​
plt.show()

Latitude vs. Humidity Plot

​
plt.ylabel("Temperature (Celsius)")
plt.xlabel("Latitude")
plt.title(City Latitude vs Humidity (8/22/18))
plt.grid(True)
​
# Save the figure
plt.savefig("TemperatureInWorldCities.png")
plt.show()

Latitude vs. Cloudiness Plot

plt.title(City Latitude vs Cloudiness(8/22/18))
plt.ylabel("Temperature (Celsius)")
plt.xlabel("Latitude")
​
plt.grid(True)
​
# Save the figure
plt.savefig("TemperatureInWorldCities.png")
plt.show()

Latitude vs. Wind Speed Plot

plt.title(City Latitude vs Wind Speed (8/22/18))
plt.ylabel("Temperature (Celsius)")
plt.xlabel("Latitude")
​
plt.grid(True)
​
# Save the figure
plt.savefig("TemperatureInWorldCities.png")
plt.show()


​
